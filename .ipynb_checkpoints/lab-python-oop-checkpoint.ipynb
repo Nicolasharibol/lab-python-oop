{
 "cells": [
  {
   "cell_type": "markdown",
   "id": "25d7736c-ba17-4aff-b6bb-66eba20fbf4e",
   "metadata": {},
   "source": [
    "# Lab | Object Oriented Programming"
   ]
  },
  {
   "cell_type": "markdown",
   "id": "6f8e446f-16b4-4e21-92e7-9d3d1eb551b6",
   "metadata": {},
   "source": [
    "Objective: Practice how to work with OOP using classes, objects, and inheritance to create robust, maintainable, and scalable code."
   ]
  },
  {
   "cell_type": "markdown",
   "id": "20c3e882-9625-471e-afb4-48a4f40c5d1b",
   "metadata": {
    "tags": []
   },
   "source": [
    "## Challenge 1: Bank Account"
   ]
  },
  {
   "cell_type": "markdown",
   "id": "fe982bf8-9610-4de3-aa93-256db5a05903",
   "metadata": {},
   "source": [
    "Create a BankAccount class with the following attributes and methods:\n",
    "\n",
    "Attributes:\n",
    "\n",
    "- account_number (a unique identifier for the bank account)\n",
    "- balance (the current balance of the account. By default, is 0)\n",
    "\n",
    "Methods:\n",
    "\n",
    "- deposit(amount) - adds the specified amount to the account balance\n",
    "- withdraw(amount) - subtracts the specified amount from the account balance\n",
    "- get_balance() - returns the current balance of the account\n",
    "- get_account_number() - returns the account number of the account\n",
    "\n",
    "Instructions:\n",
    "\n",
    "- Create a BankAccount class with the above attributes and methods.\n",
    "- Test the class by creating a few instances of BankAccount and making deposits and withdrawals.\n",
    "- Ensure that the account_number attribute is unique for each instance of BankAccount.\n",
    "\n",
    "*Hint: create a class attribute account_count. The account_count class attribute is used to keep track of the total number of bank accounts that have been created using the BankAccount class. Every time a new BankAccount object is created, the account_count attribute is incremented by one. This can be useful for various purposes, such as generating unique account numbers or monitoring the growth of a bank's customer base.*"
   ]
  },
  {
   "cell_type": "code",
   "execution_count": 623,
   "id": "21625526-3fae-4c55-bab5-f91940070681",
   "metadata": {},
   "outputs": [],
   "source": [
    "class BankAccount:\n",
    "    account_count = 2\n",
    "    def __init__ (self, account_number, balance:0):\n",
    "        self.account_number= account_number\n",
    "        self.balance= balance"
   ]
  },
  {
   "cell_type": "code",
   "execution_count": 624,
   "id": "7155232f-2e10-4d2a-89b7-10ff36d01169",
   "metadata": {},
   "outputs": [],
   "source": [
    "account1 = BankAccount(1,1000)\n",
    "account2 = BankAccount(2,500)"
   ]
  },
  {
   "cell_type": "code",
   "execution_count": 625,
   "id": "96a40128-2f3c-47c4-8b3b-3b187250d597",
   "metadata": {},
   "outputs": [
    {
     "data": {
      "text/plain": [
       "(1, 1000)"
      ]
     },
     "execution_count": 625,
     "metadata": {},
     "output_type": "execute_result"
    }
   ],
   "source": [
    "account1.account_number,account1.balance"
   ]
  },
  {
   "cell_type": "code",
   "execution_count": 626,
   "id": "fc44e959-6161-492d-ba54-bf9aafabe551",
   "metadata": {},
   "outputs": [
    {
     "data": {
      "text/plain": [
       "(2, 500)"
      ]
     },
     "execution_count": 626,
     "metadata": {},
     "output_type": "execute_result"
    }
   ],
   "source": [
    "account2.account_number, account2.balance"
   ]
  },
  {
   "cell_type": "code",
   "execution_count": 655,
   "id": "0e0c6c96-1e7f-4d75-af84-5006d8f75dcd",
   "metadata": {},
   "outputs": [],
   "source": [
    "class BankAccount:\n",
    "    account_count = 2\n",
    "    def __init__ (self, account_number, balance):\n",
    "        self.account_number= account_number\n",
    "        self.balance= balance\n",
    "\n",
    "    def deposit(self, amount):\n",
    "        if amount > 0:\n",
    "            self.balance += amount\n",
    "            print(f\"Deposited ${amount}. New balance is: ${self.balance}\")\n",
    "        else:\n",
    "            print(\"Deposit amount must be positive.\")\n",
    "\n",
    "    def get_balance(self):\n",
    "        return self.balance"
   ]
  },
  {
   "cell_type": "code",
   "execution_count": 628,
   "id": "e8e445f1-749a-4da5-bfd6-68723940f071",
   "metadata": {},
   "outputs": [],
   "source": [
    "account1 = BankAccount(account_number=1, balance=1000)"
   ]
  },
  {
   "cell_type": "code",
   "execution_count": 629,
   "id": "2efb159c-4b25-4ec7-ab22-1eadd1b9d08e",
   "metadata": {},
   "outputs": [
    {
     "name": "stdout",
     "output_type": "stream",
     "text": [
      "Deposited $500. New balance is: $1500\n"
     ]
    }
   ],
   "source": [
    "account1.deposit(500)"
   ]
  },
  {
   "cell_type": "code",
   "execution_count": 663,
   "id": "58c9754a-ea0f-44b6-96c3-e38fefd7f3c8",
   "metadata": {},
   "outputs": [],
   "source": [
    "class BankAccount:\n",
    "    account_count = 2\n",
    "    def __init__ (self, account_number, balance):\n",
    "        self.account_number= account_number\n",
    "        self.balance= balance\n",
    "    \n",
    "    def withdraw(self,amount):\n",
    "        if amount > 0:\n",
    "            if amount <= self.balance:\n",
    "                self.balance -= amount\n",
    "                print(f\"Withdraw ${amount}. New balance is: ${self.balance}\")\n",
    "            else:\n",
    "                print(\"Insufficient balance for this withdrawal.\")\n",
    "        else:\n",
    "            print(\"Withdrawal amount must be positive.\")\n",
    "    \n",
    "    def get_balance(self):\n",
    "        return self.balance"
   ]
  },
  {
   "cell_type": "code",
   "execution_count": 631,
   "id": "c94c185b-f3dc-428e-8e70-034d6cc1aa96",
   "metadata": {},
   "outputs": [],
   "source": [
    "account1 = BankAccount(account_number=1, balance=1500)"
   ]
  },
  {
   "cell_type": "code",
   "execution_count": 632,
   "id": "33d14eb8-6171-4403-a294-f3fe415cf66a",
   "metadata": {},
   "outputs": [
    {
     "name": "stdout",
     "output_type": "stream",
     "text": [
      "Withdraw $200. New balance is: $1300\n"
     ]
    }
   ],
   "source": [
    "account1.withdraw(200)"
   ]
  },
  {
   "cell_type": "code",
   "execution_count": 633,
   "id": "6341ffb5-109c-44c4-9eb3-612515f58dfc",
   "metadata": {},
   "outputs": [
    {
     "name": "stdout",
     "output_type": "stream",
     "text": [
      "Insufficient balance for this withdrawal.\n"
     ]
    }
   ],
   "source": [
    "account2 = BankAccount(account_number=2, balance=500)\n",
    "account2.withdraw(600)"
   ]
  },
  {
   "cell_type": "code",
   "execution_count": 616,
   "id": "ee789466-d4cf-4dd8-b742-6863d42c3e5c",
   "metadata": {},
   "outputs": [
    {
     "ename": "TypeError",
     "evalue": "BankAccount.__init__() missing 1 required positional argument: 'balance'",
     "output_type": "error",
     "traceback": [
      "\u001b[0;31m---------------------------------------------------------------------------\u001b[0m",
      "\u001b[0;31mTypeError\u001b[0m                                 Traceback (most recent call last)",
      "Cell \u001b[0;32mIn[616], line 3\u001b[0m\n\u001b[1;32m      1\u001b[0m \u001b[38;5;66;03m# Testing the BankAccount class\u001b[39;00m\n\u001b[1;32m      2\u001b[0m \u001b[38;5;66;03m# Creating two instances of the BankAccount class with initial balances of 1000 and 500\u001b[39;00m\n\u001b[0;32m----> 3\u001b[0m account1 \u001b[38;5;241m=\u001b[39m BankAccount(\u001b[38;5;241m1000\u001b[39m)\n\u001b[1;32m      4\u001b[0m account2 \u001b[38;5;241m=\u001b[39m BankAccount(\u001b[38;5;241m500\u001b[39m)\n\u001b[1;32m      6\u001b[0m \u001b[38;5;28mprint\u001b[39m(\u001b[38;5;124m\"\u001b[39m\u001b[38;5;124mAccount 1 balance:\u001b[39m\u001b[38;5;124m\"\u001b[39m, account1\u001b[38;5;241m.\u001b[39mget_balance()) \u001b[38;5;66;03m# This should print 1000\u001b[39;00m\n",
      "\u001b[0;31mTypeError\u001b[0m: BankAccount.__init__() missing 1 required positional argument: 'balance'"
     ]
    }
   ],
   "source": [
    "# Testing the BankAccount class\n",
    "# Creating two instances of the BankAccount class with initial balances of 1000 and 500\n",
    "account1 = BankAccount(1000)\n",
    "account2 = BankAccount(500)\n",
    "\n",
    "print(\"Account 1 balance:\", account1.get_balance()) # This should print 1000\n",
    "print(\"Account 1 number:\", account1.get_account_number()) # This should print 1\n",
    "\n",
    "print(\"Account 2 balance:\", account2.get_balance()) #This should print 500\n",
    "print(\"Account 2 number:\", account2.get_account_number()) #This should print 2\n",
    "\n",
    "account1.deposit(500) # We depoist 500 in the first account\n",
    "account1.withdraw(200) # We withdraw 200 in the first account\n",
    "print(\"Account 1 balance after transactions:\", account1.get_balance()) # This should print 1300\n",
    "\n",
    "account2.withdraw(600) # We withdraw 600 in the 2nd account \n",
    "print(\"Account 2 balance after transactions:\", account2.get_balance())# This should print insufficient balance, and still 500 in funds"
   ]
  },
  {
   "cell_type": "markdown",
   "id": "929305ed-67cb-4094-8af2-4fa9b751832a",
   "metadata": {},
   "source": [
    "## Challenge 2: Savings Account\n",
    "\n",
    "Create a SavingsAccount class that inherits from the BankAccount class. The SavingsAccount class should have the following additional attributes and methods:\n",
    "\n",
    "Attributes:\n",
    "\n",
    "- interest_rate (the annual interest rate for the savings account. By default - if no value is provided - sets it to 0.01)\n",
    "\n",
    "Methods:\n",
    "\n",
    "- add_interest() - adds the interest earned to the account balance\n",
    "- get_interest_rate() - returns the interest rate for the account\n",
    "\n",
    "Instructions:\n",
    "\n",
    "- Create a SavingsAccount class that inherits from the BankAccount class and has the above attributes and methods.\n",
    "- Test the class by creating a few instances of SavingsAccount and making deposits and withdrawals, as well as adding interest."
   ]
  },
  {
   "cell_type": "code",
   "execution_count": 661,
   "id": "4f8848b5-05d3-4259-9e24-914537926778",
   "metadata": {},
   "outputs": [],
   "source": [
    "class SavingsAccount(BankAccount):\n",
    "    def __init__(self,account_number, balance=0, annual_interest_rate=0.01):\n",
    "        super().__init__(account_number, balance)\n",
    "        self.annual_interest_rate = annual_interest_rate\n",
    "    \n",
    "    def add_interest(self):\n",
    "        interest_earned = self.balance * self.annual_interest_rate\n",
    "        self.balance += interest_earned\n",
    "        print(f\"Interest added: ${interest_earned:.2f}. New balance is: ${self.balance:.2f}\")\n",
    "\n",
    "    def get_annual_interest_rate(self):\n",
    "        return self.annual.interest_rate\n",
    "\n",
    "    \n",
    "        "
   ]
  },
  {
   "cell_type": "code",
   "execution_count": 646,
   "id": "9e6d35a3-5548-498e-b8b6-371456d8f3b1",
   "metadata": {},
   "outputs": [],
   "source": [
    "savings1 = SavingsAccount(account_number=1, balance=1000)"
   ]
  },
  {
   "cell_type": "code",
   "execution_count": 647,
   "id": "9086e0ca-4fc5-4bfb-9f88-ceaaf56a25b3",
   "metadata": {},
   "outputs": [
    {
     "name": "stdout",
     "output_type": "stream",
     "text": [
      "Interest added: $10.00. New balance is: $1010.00\n"
     ]
    }
   ],
   "source": [
    "savings1.add_interest()"
   ]
  },
  {
   "cell_type": "markdown",
   "id": "d2c84bdb-e7d1-491d-9b0e-194288702c02",
   "metadata": {},
   "source": [
    "Example of testing the SavingsAccount\n",
    "\n",
    "- Create a SavingsAccount object with a balance of $100 and interest rate of 2%\n",
    "\n",
    "- Deposit $50 into the savings account\n",
    "\n",
    "- Withdraw $25 from the savings account\n",
    "\n",
    "- Add interest to the savings account (use the default 0.01)\n",
    "\n",
    "- Print the current balance and interest rate of the savings account\n",
    "\n",
    "Expected output:\n",
    "    \n",
    "    Current balance: 127.5\n",
    "    \n",
    "    Interest rate: 0.02"
   ]
  },
  {
   "cell_type": "code",
   "execution_count": 675,
   "id": "bccc7f6d-d58c-4909-9314-aaf4afc1cd30",
   "metadata": {},
   "outputs": [],
   "source": [
    "class SavingsAccount(BankAccount):\n",
    "    def __init__(self,account_number, balance=0, annual_interest_rate=0.01):\n",
    "        super().__init__(account_number, balance)\n",
    "        self.annual_interest_rate = annual_interest_rate\n",
    "    \n",
    "    def add_interest(self):\n",
    "        interest_earned = self.balance * self.annual_interest_rate\n",
    "        self.balance += interest_earned\n",
    "        print(f\"Interest added: ${interest_earned:.2f}. New balance is: ${self.balance:.2f}\")\n",
    "\n",
    "    def get_annual_interest_rate(self):\n",
    "        return self.annual.interest_rate"
   ]
  },
  {
   "cell_type": "code",
   "execution_count": 681,
   "id": "c3398d59-e7cc-4f03-80e0-cc8540b423e9",
   "metadata": {},
   "outputs": [],
   "source": [
    "savings_account2 = SavingsAccount(account_number=1, balance=100, annual_interest_rate=0.01)"
   ]
  },
  {
   "cell_type": "code",
   "execution_count": 659,
   "id": "9b41b8e9-cbc5-4ce1-8640-cd24b4da0956",
   "metadata": {},
   "outputs": [
    {
     "name": "stdout",
     "output_type": "stream",
     "text": [
      "Deposited $50. New balance is: $150\n"
     ]
    }
   ],
   "source": [
    "savings_account2.deposit(50)"
   ]
  },
  {
   "cell_type": "code",
   "execution_count": 667,
   "id": "6beaa544-8032-45cb-b34d-5531284cafb7",
   "metadata": {},
   "outputs": [
    {
     "name": "stdout",
     "output_type": "stream",
     "text": [
      "Withdraw $25. New balance is: $75\n"
     ]
    }
   ],
   "source": [
    "savings_account2.withdraw(25)"
   ]
  },
  {
   "cell_type": "code",
   "execution_count": 682,
   "id": "7b6b845b-a138-4713-b8e1-b9e6d3873d00",
   "metadata": {},
   "outputs": [
    {
     "name": "stdout",
     "output_type": "stream",
     "text": [
      "Interest added: $1.00. New balance is: $101.00\n"
     ]
    }
   ],
   "source": [
    "savings_account2.add_interest()"
   ]
  },
  {
   "cell_type": "code",
   "execution_count": null,
   "id": "a6f632c5-d2eb-466f-9460-9513ef825419",
   "metadata": {},
   "outputs": [],
   "source": []
  },
  {
   "cell_type": "code",
   "execution_count": null,
   "id": "21ad98dd-0cff-4ed8-b268-d7bad836c963",
   "metadata": {},
   "outputs": [],
   "source": []
  },
  {
   "cell_type": "markdown",
   "id": "a5455a88-a8d1-47a6-86b0-7c70647b4f31",
   "metadata": {},
   "source": [
    "### Challenge 3: Checking Account\n",
    "\n",
    "Create a CheckingAccount class that inherits from the BankAccount class. The CheckingAccount class should have the following additional attributes and methods:\n",
    "\n",
    "Attributes:\n",
    "\n",
    "- transaction_fee (the fee charged per transaction. By default is 1$)\n",
    "- transaction_count (the number of transactions made in the current month)\n",
    "\n",
    "Methods:\n",
    "\n",
    "- deduct_fees() - deducts transaction fees from the account balance based on the number of transactions made in the current month and the transaction fee per transaction. The method calculates the total fees by multiplying the transaction count with the transaction fee, and deducts the fees from the account balance if it's sufficient. If the balance is insufficient, it prints an error message. Otherwise, it prints how much it's been deducted. After deducting the fees, the method resets the transaction count to 0.\n",
    "- reset_transactions() - resets the transaction count to 0\n",
    "- get_transaction_count() - returns the current transaction count for the account\n",
    "\n",
    "Instructions:\n",
    "\n",
    "- Create a CheckingAccount class that inherits from the BankAccount class and has the above attributes and methods.\n",
    "- Test the class by creating a few instances of CheckingAccount and making deposits, withdrawals, and transactions to deduct fees.\n",
    "\n",
    "Note: To ensure that the transaction count is updated every time a deposit or withdrawal is made, we need to overwrite the deposit and withdraw methods inherited from the BankAccount class. "
   ]
  },
  {
   "cell_type": "code",
   "execution_count": null,
   "id": "3c883c6e-3cb8-4043-92d3-12409668a28e",
   "metadata": {},
   "outputs": [],
   "source": [
    "# your code goes here"
   ]
  },
  {
   "cell_type": "markdown",
   "id": "8217ec46-3eae-4a7c-9c7c-d4a87aac7e6d",
   "metadata": {},
   "source": [
    "Example of testing CheckingAccount:\n",
    "\n",
    "    - Create a new checking account with a balance of 500 dollars and a transaction fee of 2 dollars\n",
    "    - Deposit 100 dollars into the account \n",
    "    - Withdraw 50 dollars from the account \n",
    "    - Deduct the transaction fees from the account\n",
    "    - Get the current balance and transaction count\n",
    "    - Deposit 200 dollars into the account\n",
    "    - Withdraw 75 dollars from the account\n",
    "    - Deduct the transaction fees from the account\n",
    "    - Get the current balance and transaction count again\n",
    "    \n",
    "\n",
    "Expected output:\n",
    "    \n",
    "    Transaction fees of 4$ have been deducted from your account balance.\n",
    "    \n",
    "    Current balance: 546\n",
    "    \n",
    "    Transaction count: 0\n",
    "    \n",
    "    Transaction fees of 4$ have been deducted from your account balance.\n",
    "    \n",
    "    Current balance: 667\n",
    "    \n",
    "    Transaction count: 0\n",
    "\n",
    "Note: *the print \"Transaction fees of 4$ have been deducted from your account balance\" is done in the method deduct_fees*"
   ]
  },
  {
   "cell_type": "code",
   "execution_count": null,
   "id": "faa5b148-c11b-4be0-b810-de8a7da81451",
   "metadata": {},
   "outputs": [],
   "source": [
    "# your code goes here"
   ]
  }
 ],
 "metadata": {
  "kernelspec": {
   "display_name": "Python 3 (ipykernel)",
   "language": "python",
   "name": "python3"
  },
  "language_info": {
   "codemirror_mode": {
    "name": "ipython",
    "version": 3
   },
   "file_extension": ".py",
   "mimetype": "text/x-python",
   "name": "python",
   "nbconvert_exporter": "python",
   "pygments_lexer": "ipython3",
   "version": "3.12.7"
  }
 },
 "nbformat": 4,
 "nbformat_minor": 5
}
